{
  "nbformat": 4,
  "nbformat_minor": 0,
  "metadata": {
    "colab": {
      "name": "CreationOfMergedObject.ipynb",
      "provenance": [],
      "collapsed_sections": [],
      "machine_shape": "hm"
    },
    "kernelspec": {
      "display_name": "Python 3",
      "name": "python3"
    }
  },
  "cells": [
    {
      "cell_type": "markdown",
      "metadata": {
        "id": "b-xo-umSAI-Z"
      },
      "source": [
        "This document details the merging of the five replicated datasets. While it could theoretically be used to recreate our process exactly, that would require the recreation of our system of file directories and configuring the appropriate paths to match. Rather, this document is intended for someone to gain an idea of our (very uninteresting) merging process. "
      ]
    },
    {
      "cell_type": "code",
      "metadata": {
        "id": "AyOHrsZyuxj0"
      },
      "source": [
        "%reload_ext rpy2.ipython\n",
        "from google.colab import drive\n",
        "drive.mount('/content/drive', force_remount=True)"
      ],
      "execution_count": null,
      "outputs": []
    },
    {
      "cell_type": "code",
      "metadata": {
        "id": "jNOHydkWu5Ih"
      },
      "source": [
        "%%R\n",
        "lib_loc <- \"/content/drive/MyDrive/r-lib2\""
      ],
      "execution_count": null,
      "outputs": []
    },
    {
      "cell_type": "code",
      "metadata": {
        "id": "j5PirDMcu63r"
      },
      "source": [
        "%%R\n",
        "library(Seurat, lib = lib_loc)"
      ],
      "execution_count": null,
      "outputs": []
    },
    {
      "cell_type": "code",
      "metadata": {
        "id": "EYp2F3EBy1E5"
      },
      "source": [
        "%%R\n",
        "#input here is the file from its replication in the Jupyter notebook for Liao et al.\n",
        "load('liaocolab')\n",
        "\n",
        "sobj[['Original_Cell_Types']] <- Idents(sobj)\n",
        "\n",
        "liao <- sobj\n",
        "rm(sobj)"
      ],
      "execution_count": null,
      "outputs": []
    },
    {
      "cell_type": "code",
      "metadata": {
        "id": "vqZrrXIaBNLu"
      },
      "source": [
        "%%R\n",
        "#input here is the file from its replication in the Jupyter notebook for Lake et al.\n",
        "load('lakecolab')\n",
        "\n",
        "ank.3[['Original_Cell_Types']] <- Idents(ank.3)\n",
        "\n",
        "lake <- ank.3\n",
        "rm(ank.3)"
      ],
      "execution_count": null,
      "outputs": []
    },
    {
      "cell_type": "code",
      "metadata": {
        "id": "JgxTudCukm9v"
      },
      "source": [
        "%%R\n",
        "lakemito <- lake$percent_mito"
      ],
      "execution_count": null,
      "outputs": []
    },
    {
      "cell_type": "code",
      "metadata": {
        "id": "WFq35vkFxnNB"
      },
      "source": [
        "%%R\n",
        "#input here is the file from its replication in the Jupyter notebook for Young et al.\n",
        "load('youngcolab')\n",
        "\n",
        "sobj[['Original_Cell_Types']] <- Idents(sobj)\n",
        "\n",
        "young <- sobj\n",
        "rm(sobj)"
      ],
      "execution_count": null,
      "outputs": []
    },
    {
      "cell_type": "code",
      "metadata": {
        "id": "i3fUOWnvBtQY"
      },
      "source": [
        "%%R\n",
        "#input here is the file from its replication in the Jupyter notebook for Menon et al.\n",
        "load('menoncolab')\n",
        "\n",
        "sobj[['Original_Cell_Types']] <- Idents(sobj)\n",
        "\n",
        "menon <- sobj\n",
        "rm(sobj)"
      ],
      "execution_count": null,
      "outputs": []
    },
    {
      "cell_type": "code",
      "metadata": {
        "id": "2JQeMFifDevJ"
      },
      "source": [
        "%%R\n",
        "#input here is the file from its replication in the Jupyter notebook for Wu et al.\n",
        "load('wucolab')\n",
        "\n",
        "sobj[['Original_Cell_Types']] <- Idents(sobj)\n",
        "\n",
        "wu <- sobj\n",
        "rm(sobj)"
      ],
      "execution_count": null,
      "outputs": []
    },
    {
      "cell_type": "code",
      "metadata": {
        "id": "2pWqrgAOHYf2"
      },
      "source": [
        "%%R\n",
        "lake[['Study']] <- rep('Lake', length(lake$Leveled_Names))\n",
        "liao[['Study']] <- rep('Liao', length(liao$Leveled_Names))\n",
        "menon[['Study']] <- rep('Menon', length(menon$Leveled_Names))\n",
        "wu[['Study']] <- rep('Wu', length(wu$Leveled_Names))\n",
        "young[['Study']] <- rep('Young', length(young$Leveled_Names))"
      ],
      "execution_count": null,
      "outputs": []
    },
    {
      "cell_type": "code",
      "metadata": {
        "id": "bLu5VzClOQvv"
      },
      "source": [
        "%%R\n",
        "sobjm <- merge(x = lake, y = c(liao, menon, wu, young))\n",
        "rm(lake, liao, menon, wu, young)"
      ],
      "execution_count": null,
      "outputs": []
    },
    {
      "cell_type": "markdown",
      "metadata": {
        "id": "Z6Z7bDl6_CRH"
      },
      "source": [
        "The important cell is immediately above\n",
        "\n",
        "Now we label some metadata and remove junky cells"
      ]
    },
    {
      "cell_type": "code",
      "metadata": {
        "id": "IEHmsizuQrOV"
      },
      "source": [
        "%%R\n",
        "sobjm[['Sex']] <- rep(NA, length(sobjm$nCount_RNA))\n",
        "sobjm[['Sampling_Location']] <- rep(NA, length(sobjm$nCount_RNA))\n",
        "sobjm[['Participant']] <- rep(NA, length(sobjm$nCount_RNA))\n",
        "sobjm[['Sample']] <- rep(NA, length(sobjm$nCount_RNA))\n",
        "sobjm[['Age']] <- rep(NA, length(sobjm$nCount_RNA))"
      ],
      "execution_count": null,
      "outputs": []
    },
    {
      "cell_type": "code",
      "metadata": {
        "id": "ViBiEnc5YIuO"
      },
      "source": [
        "%%R\n",
        "locations <- sobjm$orig.ident != 'SeuratProject'\n",
        "sobjm$Sample[locations] <- sobjm$orig.ident[locations]\n",
        "\n",
        "locations <- !is.na(sobjm$SangerID)\n",
        "sobjm$Sample[locations] <- sobjm$SangerID[locations]"
      ],
      "execution_count": null,
      "outputs": []
    },
    {
      "cell_type": "code",
      "metadata": {
        "id": "hgiT57CxaMLr"
      },
      "source": [
        "%%R\n",
        "# m stands for metadata inputter, but is a much shorter name\n",
        "m <- function(sample, sex, sampling_location, participant, age) {\n",
        "    \n",
        "    selected_locations <- sobjm[['Sample']] == sample\n",
        "\n",
        "    print(unique(sobjm[['Sample']][selected_locations]))\n",
        "\n",
        "    sobjm[['Sex']][selected_locations] <<- sex\n",
        "    sobjm[['Sampling_Location']][selected_locations] <<- sampling_location\n",
        "    sobjm[['Participant']][selected_locations] <<- participant\n",
        "    sobjm[['Age']][selected_locations] <<- age\n",
        "}"
      ],
      "execution_count": null,
      "outputs": []
    },
    {
      "cell_type": "code",
      "metadata": {
        "id": "z8e8Mjy1cP6F"
      },
      "source": [
        "%%R\n",
        "#Young\n",
        "m('4602STDY6949192', 'Male', 'Cortex', 'Wilms1', 4.75)\n",
        "m('4602STDY6949195', 'Male', 'Cortex', 'Wilms1', 4.75)\n",
        "m('4602STDY7090432', 'Female', 'ArteryVein', 'Wilms2', 1.58)\n",
        "m('4602STDY7090428', 'Female', 'Cortex', 'Wilms2', 1.58)\n",
        "m('4602STDY7090429', 'Female', 'Medulla', 'Wilms2', 1.58)\n",
        "m('4602STDY7090430', 'Female', 'Pelvis', 'Wilms2', 1.58)\n",
        "m('4602STDY7018926', 'Female', 'ArteryVein', 'Wilms3', 2.25)\n",
        "m('4602STDY7018923', 'Female', 'Cortex', 'Wilms3', 2.25)\n",
        "m('4602STDY7018924', 'Female', 'Medulla', 'Wilms3', 2.25)\n",
        "m('4602STDY7018925', 'Female', 'Pelvis', 'Wilms3', 2.25)\n",
        "m('4602STDY6949178', 'Female', 'Cortex', 'VHL', 49)\n",
        "m('4602STDY6949179', 'Female', 'Cortex', 'VHL', 49)\n",
        "m('4602STDY6949180', 'Female', 'Cortex', 'VHL', 49)\n",
        "m('4602STDY6949181', 'Female', 'Cortex', 'VHL', 49)\n",
        "m('4602STDY7018628', 'Male', 'Cortex', 'RCC3', 72)\n",
        "m('4602STDY7018629', 'Male', 'Cortex', 'RCC3', 72)\n",
        "m('4602STDY7018630', 'Male', 'Cortex', 'RCC3', 72)\n",
        "m('4602STDY6976426', 'Female', 'Cortex', 'RCC2', 63)\n",
        "m('4602STDY6976427', 'Female', 'Cortex', 'RCC2', 63)\n",
        "m('4602STDY6976428', 'Female', 'Cortex', 'RCC2', 63)\n",
        "m('4602STDY6930852', 'Male', 'Cortex', 'RCC1', 67)\n",
        "m('4602STDY6930853', 'Male', 'Cortex', 'RCC1', 67)\n",
        "m('4602STDY6930856', 'Male', 'Corticomedulla', 'RCC1', 67)\n",
        "m('4602STDY6795897', 'Male', 'Cortex', 'PapRCC', 70)\n",
        "m('4602STDY6795898', 'Male', 'Cortex', 'PapRCC', 70)\n",
        "m('4602STDY6949184', 'Female', 'Cortex', 'TeenTx', 12.75)\n",
        "m('4602STDY6949185', 'Female', 'Cortex', 'TeenTx', 12.75)\n",
        "m('4602STDY6949187', 'Female', 'Medulla', 'TeenTx', 12.75)\n",
        "m('4602STDY6949188', 'Female', 'Medulla', 'TeenTx', 12.75)\n",
        "m('4602STDY6949186', 'Female', 'Cortex', 'TeenTx', 12.75)\n",
        "m('4602STDY6949189', 'Female', 'Medulla', 'TeenTx', 12.75)\n",
        "m('CZIKidney7587405', 'Female', 'Medulla', 'TXK1', 53)\n",
        "m('CZIKidney7587406', 'Female', 'Pelvis', 'TXK1', 53)\n",
        "m('CZIKidney7587407', 'Female', 'Cortex', 'TXK1', 53)\n",
        "m('CZIKidney7587408', 'Female', 'Cortex', 'TXK1', 53)\n",
        "m('CZIKidney7587409', 'Female', 'Cortex', 'TXK2', 44)\n",
        "m('CZIKidney7587411', 'Female', 'Medulla', 'TXK2', 44)\n",
        "m('CZIKidney7587412', 'Female', 'Medulla', 'TXK2', 44)\n",
        "m('CZIKidney7587422', 'Male', 'Cortex', 'TXK3', 64)\n",
        "m('CZIKidney7587423', 'Male', 'Cortex', 'TXK3', 64)\n",
        "m('CZIKidney7587424', 'Male', 'Medulla', 'TXK3', 64)\n",
        "m('CZIKidney7587425', 'Male', 'Medulla', 'TXK3', 64)\n",
        "m('CZIKidney7632802', 'Male', 'Medulla', 'TXK4', 72)\n",
        "m('CZIKidney7632803', 'Male', 'Cortex', 'TXK4', 72)\n",
        "m('CZIKidney7632804', 'Male', 'Cortex', 'TXK4', 72)\n",
        "m('4602STDY6930857', 'Male', 'Ureter', 'RCC1', 67)\n",
        "m('4602STDY7018631', 'Male', 'Ureter', 'RCC3', 72)\n",
        "m('4602STDY7018927', 'Female', 'Ureter', 'Wilms3', 2.25)"
      ],
      "execution_count": null,
      "outputs": []
    },
    {
      "cell_type": "code",
      "metadata": {
        "id": "Wwc4gJvLwCCP"
      },
      "source": [
        "%%R\n",
        "#Menon\n",
        "m('TN117.17.116.Lib.4b', 'Male', NA, 'TN117-17-116-Lib-4b', '70 - 79')\n",
        "m('X17.1606.2.1', 'Female', NA, '17-1606', '50 -59')\n",
        "m('X18142.5.1', 'Female', NA, '18-142', '60 - 69')\n",
        "m('X18142.5.2', 'Female', NA, '18-142', '60 - 69')\n",
        "m('X18.139', 'Male', NA, '18-139', '60 - 69')\n",
        "m('TN109.18.242.Lib', 'Male', NA, 'TN109-18-242-Lib', '50 - 59')\n",
        "m('X17.1606.2.0', 'Female', NA, '17-1606', NA)\n",
        "m('TN121.18.696.10', 'Male', NA, 'TN121-18-696-10', '50 - 59')\n",
        "m('Trans004.1', 'Female', NA, 'Trans-SV-004', '30 - 39')\n",
        "m('X18.342', 'Male', NA, '18-342', '60 - 69')\n",
        "m('Trans006.1', NA, NA, 'Trans-SV-006', '20 - 29')\n",
        "m('TN120.18.696.4', 'Male', NA, 'TN120-18-696-4', '50 - 59')\n",
        "m('Trans005.1', 'Female', NA, 'Trans-SV-005', '50 - 59')\n",
        "m('TN116.17.116.Lib.4a', 'Male', NA,  'TN116-17-116-Lib-4a', '70 - 79')\n",
        "m('X18.162', 'Female', NA, '18-162', '60 - 69')\n",
        "m('Trans008.2', 'Female', NA, 'Trans-SV-008', '50 - 59')"
      ],
      "execution_count": null,
      "outputs": []
    },
    {
      "cell_type": "code",
      "metadata": {
        "id": "4VtJS2Ap3bh1"
      },
      "source": [
        "%%R\n",
        "#Wu\n",
        "m('Tube1', 'Male', NA, 'Wu', 70)\n",
        "m('Tube2', 'Male', NA, 'Wu', 70)\n",
        "m('Tube3', 'Male', NA, 'Wu', 70)\n",
        "m('Tube4', 'Male', NA, 'Wu', 70)"
      ],
      "execution_count": null,
      "outputs": []
    },
    {
      "cell_type": "code",
      "metadata": {
        "id": "u0bDO4ah4xVs"
      },
      "source": [
        "%%R\n",
        "#Liao\n",
        "m('kidney1', 'Male', NA, 'kidney1', 57)\n",
        "m('kidney2', 'Female', NA, 'kidney2', 59)\n",
        "m('kidney3', 'Male', NA, 'kidney3', 65)"
      ],
      "execution_count": null,
      "outputs": []
    },
    {
      "cell_type": "code",
      "metadata": {
        "id": "LU3n4OBX5RH5"
      },
      "source": [
        "%%R\n",
        "mapping <- read.csv('LakeMetadata.csv', header = FALSE)"
      ],
      "execution_count": null,
      "outputs": []
    },
    {
      "cell_type": "code",
      "metadata": {
        "id": "WxIg6yVcjgF2"
      },
      "source": [
        "%%R\n",
        "head(mapping)"
      ],
      "execution_count": null,
      "outputs": []
    },
    {
      "cell_type": "code",
      "metadata": {
        "id": "BzN37Lf1eHHf"
      },
      "source": [
        "%%R\n",
        "for(library_index in 1:length(mapping$V1)){\n",
        "    locations <- sobjm$Sample == mapping$V1[library_index]\n",
        "    sobjm$Sampling_Location[locations] <- mapping$V2[library_index]\n",
        "    if(!is.na(mapping$V3[library_index]))\n",
        "    {  if(mapping$V3[library_index] == 'M'){\n",
        "          sobjm$Sex[locations] <- 'Male'\n",
        "      }else if(mapping$V3[library_index] == 'F'){\n",
        "          sobjm$Sex[locations] <- 'Female'\n",
        "      } else {\n",
        "          print('sanity check')\n",
        "      }\n",
        "     }\n",
        "\n",
        "    sobjm$Participant[locations] <- mapping$V4[library_index]\n",
        "\n",
        "    sobjm$Age[sobjm$Participant == 'K1700233'] <- '> 50'\n",
        "    sobjm$Age[sobjm$Participant == 'K1700234'] <- '> 50'\n",
        "    sobjm$Age[sobjm$Participant == 'K1700578'] <- '> 50'\n",
        "    sobjm$Age[sobjm$Participant == 'K1700572'] <- '> 50'\n",
        "    sobjm$Age[sobjm$Participant == 'K1700574'] <- '> 50'\n",
        "    sobjm$Age[sobjm$Participant == 'K1800017'] <- '> 50'\n",
        "    sobjm$Age[sobjm$Participant == 'K1800010'] <- '> 50'\n",
        "    sobjm$Age[sobjm$Participant == 'K1700442'] <- '< 50'\n",
        "    sobjm$Age[sobjm$Participant == 'K1700443'] <- '< 50'\n",
        "    sobjm$Age[sobjm$Participant == 'K1800105'] <- '> 50'\n",
        "    sobjm$Age[sobjm$Participant == 'K1700432'] <- '< 50'\n",
        "    sobjm$Age[sobjm$Participant == 'K1700435'] <- '< 50'\n",
        "    sobjm$Age[sobjm$Participant == 'K1700543'] <- '> 50'\n",
        "\n",
        "    print(library_index)\n",
        "}"
      ],
      "execution_count": null,
      "outputs": []
    },
    {
      "cell_type": "code",
      "metadata": {
        "id": "-QQGdVgqh8xn"
      },
      "source": [
        "%%R\n",
        "sobjm$Original_Cell_Types <- paste(sobjm$Original_Cell_Types, sobjm$Study, sep = '_')"
      ],
      "execution_count": null,
      "outputs": []
    },
    {
      "cell_type": "code",
      "metadata": {
        "id": "BRwPw_fo4EwD"
      },
      "source": [
        "%%R \n",
        "# This removes duplicate cells between Lake and Menon from Lake, as they were originally from Menon.\n",
        "sobjm <- subset(sobjm, subset = Sample != 'NK71')\n",
        "sobjm <- subset(sobjm, subset = Sample != 'NK72')\n",
        "sobjm <- subset(sobjm, subset = Sample != 'NK79')\n",
        "sobjm <- subset(sobjm, subset = Sample != 'NK80')\n",
        "sobjm <- subset(sobjm, subset = Sample != 'NK81')\n",
        "sobjm <- subset(sobjm, subset = Sample != 'NK86')\n",
        "sobjm <- subset(sobjm, subset = Sample != 'NK87')\n",
        "sobjm <- subset(sobjm, subset = Sample != 'NK88')\n",
        "sobjm <- subset(sobjm, subset = Sample != 'NK89')\n",
        "sobjm <- subset(sobjm, subset = Sample != 'NK90')\n",
        "sobjm <- subset(sobjm, subset = Sample != 'NK91')\n",
        "sobjm <- subset(sobjm, subset = Sample != 'NK92')\n",
        "\n",
        "# This removes uncooperative cells, each of which is mentioned more specifically in the paper acompanying this repository. \n",
        "sobjm <- subset(sobjm, subset = Original_Cell_Types != 'Nephron_epithelium_Young')\n",
        "sobjm <- subset(sobjm, subset = Original_Cell_Types != 'Private_Young')\n",
        "sobjm <- subset(sobjm, subset = Original_Cell_Types != 'Epithelial Cells (unassigned)_Lake')\n",
        "\n",
        "sobjm <- subset(sobjm, subset = Original_Cell_Types != 'Proximal Tubule Epithelial Cells - Stress/Inflam_Lake')\n",
        "sobjm <- subset(sobjm, subset = Original_Cell_Types != 'Cycling Cells_Wu')\n",
        "sobjm <- subset(sobjm, subset = Original_Cell_Types != 'Collecting system - PCs - Stressed Dissoc Subset_Lake')\n",
        "sobjm <- subset(sobjm, subset = Sample != 'kidney1')\n",
        "sobjm <- subset(sobjm, subset = Leveled_Names != 'Junk')"
      ],
      "execution_count": null,
      "outputs": []
    },
    {
      "cell_type": "code",
      "metadata": {
        "id": "L6NoBeclfkpf"
      },
      "source": [
        "%%R\n",
        "# This removes non adult cells from fetal and child samples\n",
        "sobjm <- subset(sobjm, subset = Sample != '4602STDY7018924')\n",
        "sobjm <- subset(sobjm, subset = Sample != '4602STDY6949184')\n",
        "sobjm <- subset(sobjm, subset = Sample != '4602STDY7090429')\n",
        "sobjm <- subset(sobjm, subset = Sample != '4602STDY6949192')\n",
        "sobjm <- subset(sobjm, subset = Sample != '4602STDY6949187')\n",
        "sobjm <- subset(sobjm, subset = Sample != '4602STDY6949189')\n",
        "\n",
        "sobjm <- subset(sobjm, subset = Sample != '4602STDY7018925')\n",
        "sobjm <- subset(sobjm, subset = Sample != '4602STDY7090430')\n",
        "sobjm <- subset(sobjm, subset = Sample != '4602STDY6949195')\n",
        "\n",
        "sobjm <- subset(sobjm, subset = Sample != '4602STDY7090428')\n",
        "sobjm <- subset(sobjm, subset = Sample != '4602STDY7018923')\n",
        "\n",
        "sobjm <- subset(sobjm, subset = Sample != '4602STDY6949185')\n",
        "sobjm <- subset(sobjm, subset = Sample != '4602STDY6949186')\n",
        "sobjm <- subset(sobjm, subset = Sample != '4602STDY6949188')\n",
        "sobjm <- subset(sobjm, subset = Sample != '4602STDY7090431')"
      ],
      "execution_count": null,
      "outputs": []
    },
    {
      "cell_type": "code",
      "metadata": {
        "id": "BbQg2Ad1itGH"
      },
      "source": [
        "%%R\n",
        "#renaming from sample to participant id as appropriate\n",
        "sobjm$Participant[sobjm$Participant == 'K1600543'] <- 'PPID3351'\n",
        "sobjm$Participant[sobjm$Participant == 'K1700233'] <- 'PPID3395'\n",
        "sobjm$Participant[sobjm$Participant == 'K1700578'] <- 'PPID3432'\n",
        "sobjm$Participant[sobjm$Participant == 'K1700572'] <- 'PPID3431'\n",
        "sobjm$Participant[sobjm$Participant == 'K1800017'] <- 'PPID3435'\n",
        "sobjm$Participant[sobjm$Participant == 'K1800010'] <- 'PPID3434'\n",
        "sobjm$Participant[sobjm$Participant == 'K1800016'] <- 'PPID3435'\n",
        "sobjm$Participant[sobjm$Participant == 'K1700443'] <- 'PPID3414'\n",
        "sobjm$Participant[sobjm$Participant == 'K1600543'] <- 'PPID3351'\n",
        "sobjm$Participant[sobjm$Participant == 'K1700233'] <- 'PPID3395'\n",
        "sobjm$Participant[sobjm$Participant == 'K1700578'] <- 'PPID3432'\n",
        "sobjm$Participant[sobjm$Participant == 'K1700572'] <- 'PPID3431'\n",
        "sobjm$Participant[sobjm$Participant == 'K1800017'] <- 'PPID3435'\n",
        "sobjm$Participant[sobjm$Participant == 'K1800010'] <- 'PPID3434'\n",
        "sobjm$Participant[sobjm$Participant == 'K1800016'] <- 'PPID3435'\n",
        "sobjm$Participant[sobjm$Participant == 'K1700443'] <- 'PPID3414'          \n",
        "sobjm$Participant[sobjm$Participant == 'K1700442'] <- 'PPID3414'\n",
        "sobjm$Participant[sobjm$Participant == 'K1800105'] <- 'PPID3444'\n",
        "sobjm$Participant[sobjm$Participant == 'K1700234'] <- 'PPID3395'\n",
        "sobjm$Participant[sobjm$Participant == 'K1700432'] <- 'PPID3411'\n",
        "sobjm$Participant[sobjm$Participant == 'K1700435'] <- 'PPID3412'\n",
        "sobjm$Participant[sobjm$Participant == 'K1700573'] <- 'PPID3431'"
      ],
      "execution_count": null,
      "outputs": []
    },
    {
      "cell_type": "code",
      "metadata": {
        "id": "aHba062raLIE"
      },
      "source": [
        "%%R\n",
        "#For samples where the participant is not specified, the participant id is assumed to be the sample id\n",
        "sobjm$Participant[is.na(sobjm$Participant)] <- sobjm$Sample[is.na(sobjm$Participant)]"
      ],
      "execution_count": null,
      "outputs": []
    },
    {
      "cell_type": "code",
      "metadata": {
        "id": "XCpcSwJu4Wfu"
      },
      "source": [
        "%%R\n",
        "#binning ages\n",
        "print(unique(sobjm$Age))\n",
        "print(colnames(sobjm@meta.data))\n",
        "\n",
        "sobjm$Age[sobjm$Age == 59] <- '50 - 59'\n",
        "sobjm$Age[sobjm$Age == \"50 -59\"] <- '50 - 59'\n",
        "sobjm$Age[sobjm$Age == 65 | sobjm$Age == 63 | sobjm$Age == 67] <- '60 - 69'\n",
        "sobjm$Age[sobjm$Age == 49] <- '40 - 49'\n",
        "sobjm$Age[sobjm$Age == 70 | sobjm$Age == 72] <- '70 - 79'\n",
        "\n",
        "\n",
        "\n",
        "meta <- sobjm@meta.data"
      ],
      "execution_count": null,
      "outputs": []
    },
    {
      "cell_type": "code",
      "metadata": {
        "id": "eUzFlp7Q4V83"
      },
      "source": [
        "%%R\n",
        "#removes metadata that cannot be compared across samples\n",
        "metarevised <- meta[c(2,3,16,17,18,19,31,32,33,34,35)]\n",
        "sobjm@meta.data <- metarevised"
      ],
      "execution_count": null,
      "outputs": []
    },
    {
      "cell_type": "code",
      "metadata": {
        "id": "Uh4eK4980QHP"
      },
      "source": [
        "%%R\n",
        "#this makes mitochondrial comparisons consistent\n",
        "sobjm[['percent.mt']] <- PercentageFeatureSet(sobjm, pattern = '^MT-')\n",
        "lakemito2 <- lakemito[names(lakemito) %in% names(sobj$nCount_RNA)]\n",
        "sobjm[['percent.mt']][sobj$Study == 'Lake'] <- lakemito2"
      ],
      "execution_count": null,
      "outputs": []
    },
    {
      "cell_type": "code",
      "metadata": {
        "id": "0lYNU1OWeor7"
      },
      "source": [
        "%%R\n",
        "saveRDS(sobjm, file = 'MergedObject.RDS')"
      ],
      "execution_count": null,
      "outputs": []
    }
  ]
}